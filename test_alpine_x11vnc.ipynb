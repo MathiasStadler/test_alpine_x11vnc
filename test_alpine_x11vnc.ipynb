{
 "cells": [
  {
   "cell_type": "markdown",
   "metadata": {},
   "source": [
    "# [alpine - x86/x11vnc](https://pkgs.alpinelinux.org/package/edge/community/x86/x11vnc#)"
   ]
  },
  {
   "cell_type": "markdown",
   "metadata": {},
   "source": [
    "# [first approach](https://www.trickster.dev/post/running-gui-apps-within-docker-containers/)"
   ]
  },
  {
   "cell_type": "markdown",
   "metadata": {},
   "source": [
    "# docker build image"
   ]
  },
  {
   "cell_type": "code",
   "execution_count": null,
   "metadata": {
    "vscode": {
     "languageId": "shellscript"
    }
   },
   "outputs": [],
   "source": [
    "docker build -t firefox-test-1 ."
   ]
  },
  {
   "cell_type": "markdown",
   "metadata": {},
   "source": [
    "# docker run"
   ]
  },
  {
   "cell_type": "code",
   "execution_count": null,
   "metadata": {
    "vscode": {
     "languageId": "shellscript"
    }
   },
   "outputs": [],
   "source": [
    "docker run -p 5900:5900 --rm firefox-test-1"
   ]
  },
  {
   "cell_type": "markdown",
   "metadata": {},
   "source": [
    "# install vnc viewer remmina\n",
    "## [Link](https://wiki.ubuntuusers.de/Remmina/)\n",
    "\n",
    "install \n",
    "```bash\n",
    "sudo -i #as root\n",
    "sudo apt-get install remmina remmina-plugin-vnc\n",
    "```"
   ]
  }
 ],
 "metadata": {
  "kernelspec": {
   "display_name": "Bash",
   "language": "bash",
   "name": "bash"
  },
  "language_info": {
   "name": "bash"
  }
 },
 "nbformat": 4,
 "nbformat_minor": 2
}
