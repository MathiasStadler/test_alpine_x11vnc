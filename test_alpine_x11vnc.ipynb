{
 "cells": [
  {
   "cell_type": "markdown",
   "metadata": {},
   "source": [
    "# [alpine - x86/x11vnc](https://pkgs.alpinelinux.org/package/edge/community/x86/x11vnc#)"
   ]
  },
  {
   "cell_type": "markdown",
   "metadata": {},
   "source": [
    "# [first approach](https://www.trickster.dev/post/running-gui-apps-within-docker-containers/)"
   ]
  },
  {
   "cell_type": "markdown",
   "metadata": {},
   "source": [
    "# docker build image"
   ]
  },
  {
   "cell_type": "code",
   "execution_count": null,
   "metadata": {
    "vscode": {
     "languageId": "shellscript"
    }
   },
   "outputs": [],
   "source": [
    "docker build -f \"Dockerfile_x11vnc\" -t x11vnc -n x11vnc \".\""
   ]
  },
  {
   "cell_type": "markdown",
   "metadata": {},
   "source": [
    "# docker run"
   ]
  },
  {
   "cell_type": "code",
   "execution_count": null,
   "metadata": {
    "vscode": {
     "languageId": "shellscript"
    }
   },
   "outputs": [],
   "source": [
    "docker run -p 5900:5900 --rm x11vnc"
   ]
  },
  {
   "cell_type": "markdown",
   "metadata": {},
   "source": [
    "# install vnc viewer remmina\n",
    "## [Link](https://wiki.ubuntuusers.de/Remmina/)\n"
   ]
  },
  {
   "cell_type": "code",
   "execution_count": null,
   "metadata": {
    "vscode": {
     "languageId": "shellscript"
    }
   },
   "outputs": [],
   "source": [
    "sudo apt update && sudo apt-get -qqy install remmina remmina-plugin-vnc"
   ]
  },
  {
   "cell_type": "markdown",
   "metadata": {},
   "source": [
    "# build firefox image "
   ]
  },
  {
   "cell_type": "code",
   "execution_count": null,
   "metadata": {
    "vscode": {
     "languageId": "shellscript"
    }
   },
   "outputs": [],
   "source": [
    "docker build -f \"Dockerfile_firefox\" -t firefox-1 \".\"\n",
    "docker build -t firefox-test-2 -f ./Dockerfile_firefox \".\""
   ]
  },
  {
   "cell_type": "markdown",
   "metadata": {},
   "source": [
    "$(ifconfig enp0s25 | grep inet | awk '$1==\"inet\" {print $2}')"
   ]
  },
  {
   "cell_type": "code",
   "execution_count": null,
   "metadata": {
    "vscode": {
     "languageId": "shellscript"
    }
   },
   "outputs": [],
   "source": [
    "docker run --rm -e DISPLAY=\"$(ifconfig en0 | grep inet | awk '$1==\"inet\" {print $2}')\":0 firefox\n",
    "# for ubuntu 22.10\n",
    "docker run --rm -e DISPLAY=\"$(ifconfig enp0s25 | grep inet | awk '$1==\"inet\" {print $2}')\":0 firefox"
   ]
  }
 ],
 "metadata": {
  "kernelspec": {
   "display_name": "Bash",
   "language": "bash",
   "name": "bash"
  },
  "language_info": {
   "name": "bash"
  }
 },
 "nbformat": 4,
 "nbformat_minor": 2
}
